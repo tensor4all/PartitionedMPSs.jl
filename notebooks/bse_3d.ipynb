{
 "cells": [
  {
   "cell_type": "code",
   "execution_count": 1,
   "metadata": {},
   "outputs": [],
   "source": [
    "import QuanticsGrids as QG\n",
    "using TensorCrossInterpolation\n",
    "import TCIAlgorithms as TCIA\n",
    "using HubbardAtoms\n",
    "using SparseIR\n",
    "using Quantics\n",
    "using ITensors"
   ]
  },
  {
   "cell_type": "code",
   "execution_count": 2,
   "metadata": {},
   "outputs": [
    {
     "data": {
      "text/plain": [
       "HubbardAtom(1.6, 2.3, 6.296538261026656, 0.6400000000000001, 2.3176348522138412)"
      ]
     },
     "metadata": {},
     "output_type": "display_data"
    }
   ],
   "source": [
    "U = 1.6\n",
    "beta = 2.3\n",
    "model = HubbardAtom(U, beta)"
   ]
  },
  {
   "cell_type": "code",
   "execution_count": 3,
   "metadata": {},
   "outputs": [
    {
     "data": {
      "text/plain": [
       "4-element Vector{Vector{Index{Int64}}}:\n",
       " [(dim=2|id=527|\"k=1\"), (dim=2|id=527|\"k=1\")', (dim=2|id=150|\"q=1\")]\n",
       " [(dim=2|id=28|\"k=2\"), (dim=2|id=28|\"k=2\")', (dim=2|id=92|\"q=2\")]\n",
       " [(dim=2|id=529|\"k=3\"), (dim=2|id=529|\"k=3\")', (dim=2|id=977|\"q=3\")]\n",
       " [(dim=2|id=153|\"k=4\"), (dim=2|id=153|\"k=4\")', (dim=2|id=591|\"q=4\")]"
      ]
     },
     "metadata": {},
     "output_type": "display_data"
    }
   ],
   "source": [
    "R = 4\n",
    "N = 2^R\n",
    "maxbonddim = 40\n",
    "grid = QG.InherentDiscreteGrid{3}(R, (-N + 1, -N + 1, -N); step=2, unfoldingscheme=:fused)\n",
    "\n",
    "base = 2\n",
    "sitesk = [Index(base, \"k=$n\") for n in 1:R] # ν\n",
    "sitesk´ = prime.(sitesk) # ν´\n",
    "sitesq = [Index(base, \"q=$n\") for n in 1:R] # ω\n",
    "sites = collect(collect.(zip(sitesk, sitesk´, sitesq)))"
   ]
  },
  {
   "cell_type": "code",
   "execution_count": 4,
   "metadata": {},
   "outputs": [
    {
     "data": {
      "text/plain": [
       "makeverts (generic function with 1 method)"
      ]
     },
     "metadata": {},
     "output_type": "display_data"
    }
   ],
   "source": [
    "function makeverts(ch)\n",
    "    function fq_full(x, y, z)\n",
    "        return full_vertex(ch, model, (FermionicFreq(x), FermionicFreq(y), BosonicFreq(z)))\n",
    "    end\n",
    "    fI_full = QG.quanticsfunction(ComplexF64, grid, fq_full)\n",
    "\n",
    "    # we absorb 1/β^2 into the chi0 function\n",
    "    function fq_chi0(x, y, z)\n",
    "        return 1 / beta^2 *\n",
    "            chi0(ch, model, (FermionicFreq(x), FermionicFreq(y), BosonicFreq(z)))\n",
    "    end\n",
    "    fI_chi0 = QG.quanticsfunction(ComplexF64, grid, fq_chi0)\n",
    "\n",
    "    function fq_gamma(x, y, z)\n",
    "        return gamma(ch, model, (FermionicFreq(x), FermionicFreq(y), BosonicFreq(z)))\n",
    "    end\n",
    "    fI_gamma = QG.quanticsfunction(ComplexF64, grid, fq_gamma)\n",
    "\n",
    "    return fq_full, fq_chi0, fq_gamma, fI_full, fI_chi0, fI_gamma\n",
    "end"
   ]
  },
  {
   "cell_type": "code",
   "execution_count": 5,
   "metadata": {},
   "outputs": [
    {
     "data": {
      "text/plain": [
       "interpolateverts (generic function with 1 method)"
      ]
     },
     "metadata": {},
     "output_type": "display_data"
    }
   ],
   "source": [
    "function interpolateverts(fI_chi0, fI_full, fI_gamma)\n",
    "    localdims = dim.(sites)\n",
    "    sitedims = [dim.(s) for s in sites]\n",
    "    pordering = TCIA.PatchOrdering(collect(1:R))\n",
    "    initialpivots = [QG.origcoord_to_quantics(grid, 0)] # approx center of grid\n",
    "\n",
    "    full_patches = reshape(\n",
    "        TCIA.adaptiveinterpolate(TCIA.makeprojectable(Float64, fI_full, localdims), pordering; verbosity=0, maxbonddim, initialpivots),\n",
    "        sitedims,\n",
    "    )\n",
    "    chi0_patches = reshape(\n",
    "        TCIA.adaptiveinterpolate(TCIA.makeprojectable(Float64, fI_chi0, localdims), pordering; verbosity=0, maxbonddim, initialpivots),\n",
    "        sitedims,\n",
    "    )\n",
    "    gamma_patches = reshape(\n",
    "        TCIA.adaptiveinterpolate(TCIA.makeprojectable(Float64, fI_gamma, localdims), pordering; verbosity=0, maxbonddim, initialpivots),\n",
    "        sitedims,\n",
    "    )\n",
    "\n",
    "    return full_patches, chi0_patches, gamma_patches\n",
    "end"
   ]
  },
  {
   "cell_type": "code",
   "execution_count": 6,
   "metadata": {},
   "outputs": [
    {
     "data": {
      "text/plain": [
       "makevertsdiagonal (generic function with 1 method)"
      ]
     },
     "metadata": {},
     "output_type": "display_data"
    }
   ],
   "source": [
    "function makevertsdiagonal(full_patches, chi0_patches, gamma_patches)\n",
    "    siteskk´_vec = [[x, y] for (x, y) in zip(sitesk, sitesk´)]\n",
    "    sitesq_vec = [[z] for z in sitesq]\n",
    "    sites_separateq = [x for pair in zip(siteskk´_vec, sitesq_vec) for x in pair]\n",
    "\n",
    "    full_mps = TCIA.SubDomainMPSContainer(Float64, full_patches, sites)\n",
    "    full_kk´_q = Quantics.rearrange_siteinds(full_mps, sites_separateq)\n",
    "    full_kk´_qq´ = Quantics.makesitediagonal(full_kk´_q, \"q\")\n",
    "    full_ptt = TCIA.ProjTTContainer{Float64}(full_kk´_qq´)\n",
    "\n",
    "    chi0_mps = TCIA.SubDomainMPSContainer(Float64, chi0_patches, sites)\n",
    "    chi0_kk´_q = Quantics.rearrange_siteinds(chi0_mps, sites_separateq)\n",
    "    chi0_kk´_qq´ = Quantics.makesitediagonal(chi0_kk´_q, \"q\")\n",
    "    chi0_kk´_q´q´´ = prime(chi0_kk´_qq´)\n",
    "    chi0_ptt = TCIA.ProjTTContainer{Float64}(chi0_kk´_q´q´´)\n",
    "\n",
    "    gamma_mps = TCIA.SubDomainMPSContainer(Float64, gamma_patches, sites)\n",
    "    gamma_kk´_q = Quantics.rearrange_siteinds(gamma_mps, sites_separateq)\n",
    "    gamma_kk´_qq´ = Quantics.makesitediagonal(gamma_kk´_q, \"q\")\n",
    "    gamma_kk´_q´´q´´´ = prime(gamma_kk´_qq´, 2)\n",
    "    gamma_ptt = TCIA.ProjTTContainer{Float64}(gamma_kk´_q´´q´´´)\n",
    "\n",
    "    diagonal_sites = full_kk´_qq´.sites\n",
    "\n",
    "    return full_ptt, chi0_ptt, gamma_ptt, diagonal_sites\n",
    "end"
   ]
  },
  {
   "cell_type": "code",
   "execution_count": 7,
   "metadata": {},
   "outputs": [
    {
     "data": {
      "text/plain": [
       "calculatebse (generic function with 1 method)"
      ]
     },
     "metadata": {},
     "output_type": "display_data"
    }
   ],
   "source": [
    "function calculatebse(full_ptt, chi0_ptt, gamma_ptt, diagonal_sites)\n",
    "    pordering = TCIA.PatchOrdering(collect(1:(2R)))\n",
    "\n",
    "    chi0_gamma_ptt = TCIA.adaptivematmul(chi0_ptt, gamma_ptt, pordering; maxbonddim)\n",
    "    phi_bse_diagonal = TCIA.adaptivematmul(full_ptt, chi0_gamma_ptt, pordering; maxbonddim)\n",
    "    phi_bse_diagonal_SubDomainMPS = TCIA.SubDomainMPSContainer(Float64, phi_bse_diagonal, diagonal_sites)\n",
    "    phi_bse_SubDomainMPS_kk´_q = Quantics.extractdiagonal(phi_bse_diagonal_SubDomainMPS, \"q\")\n",
    "    phi_bse_SubDomainMPS_kk´q = Quantics.rearrange_siteinds(phi_bse_SubDomainMPS_kk´_q, sites)\n",
    "    phi_bse = TCIA.ProjTTContainer{Float64}(phi_bse_SubDomainMPS_kk´q)\n",
    "\n",
    "    return phi_bse\n",
    "end"
   ]
  },
  {
   "cell_type": "code",
   "execution_count": 8,
   "metadata": {},
   "outputs": [
    {
     "data": {
      "text/plain": [
       "comparereference (generic function with 1 method)"
      ]
     },
     "metadata": {},
     "output_type": "display_data"
    }
   ],
   "source": [
    "function comparereference(phi_bse, fq_full, fq_chi0, fq_gamma)\n",
    "    # normal multiplication for comparison\n",
    "    box = [\n",
    "        (x, y, z) for x in range(-N + 1; step=2, length=N),\n",
    "        y in range(-N + 1; step=2, length=N), z in range(-N; step=2, length=N)\n",
    "    ]\n",
    "    chi0_exact = map(splat(fq_chi0), box)\n",
    "    full_exact = map(splat(fq_full), box)\n",
    "    gamma_exact = map(splat(fq_gamma), box)\n",
    "    phi_normalmul = stack(\n",
    "        gamma_exact[:, :, i] * chi0_exact[:, :, i] * full_exact[:, :, i] for i in 1:N\n",
    "    )\n",
    "\n",
    "    phi_adaptivemul = [phi_bse(QG.origcoord_to_quantics(grid, p)) for p in box]\n",
    "\n",
    "    return norm(phi_normalmul - phi_adaptivemul) / norm(phi_normalmul)\n",
    "end"
   ]
  },
  {
   "cell_type": "code",
   "execution_count": 9,
   "metadata": {},
   "outputs": [
    {
     "data": {
      "text/plain": [
       "(DensityChannel(), MagneticChannel(), SingletChannel(), TripletChannel())"
      ]
     },
     "metadata": {},
     "output_type": "display_data"
    }
   ],
   "source": [
    "ch_d = DensityChannel()\n",
    "ch_m = MagneticChannel()\n",
    "ch_s = SingletChannel()\n",
    "ch_t = TripletChannel()\n",
    "channels = (ch_d, ch_m, ch_s, ch_t)"
   ]
  },
  {
   "cell_type": "code",
   "execution_count": 10,
   "metadata": {},
   "outputs": [
    {
     "name": "stdout",
     "output_type": "stream",
     "text": [
      "DensityChannel():\t0.0006574657717591939\n",
      "MagneticChannel():\t0.0037716534948343456\n",
      "SingletChannel():\t0.011923999534902066\n",
      "TripletChannel():\t2.682090031429619e-15\n"
     ]
    }
   ],
   "source": [
    "for ch in channels\n",
    "    fq_full, fq_chi0, fq_gamma, fI_full, fI_chi0, fI_gamma = makeverts(ch)\n",
    "    full_patches, chi0_patches, gamma_patches = interpolateverts(fI_chi0, fI_full, fI_gamma)\n",
    "    full_ptt, chi0_ptt, gamma_ptt, diagonal_sites = makevertsdiagonal(full_patches, chi0_patches, gamma_patches)\n",
    "    phi_bse = calculatebse(full_ptt, chi0_ptt, gamma_ptt, diagonal_sites)\n",
    "    error = comparereference(phi_bse, fq_full, fq_chi0, fq_gamma)\n",
    "    println(ch, \":\\t\", error)\n",
    "end"
   ]
  },
  {
   "cell_type": "code",
   "execution_count": null,
   "metadata": {},
   "outputs": [],
   "source": []
  }
 ],
 "metadata": {
  "kernelspec": {
   "display_name": "Julia 1.11.0-rc3",
   "language": "julia",
   "name": "julia-1.11"
  },
  "language_info": {
   "file_extension": ".jl",
   "mimetype": "application/julia",
   "name": "julia",
   "version": "1.11.0-rc3"
  }
 },
 "nbformat": 4,
 "nbformat_minor": 2
}

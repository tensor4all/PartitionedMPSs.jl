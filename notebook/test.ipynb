{
 "cells": [
  {
   "cell_type": "code",
   "execution_count": null,
   "metadata": {},
   "outputs": [],
   "source": [
    "using Revise\n",
    "import TensorCrossInterpolation as TCI\n",
    "import TCIAlgorithms: MatrixProduct\n",
    "import TCIAlgorithms as TCIA\n",
    "using ITensors\n",
    "using Quantics"
   ]
  },
  {
   "cell_type": "code",
   "execution_count": 4,
   "metadata": {},
   "outputs": [
    {
     "data": {
      "text/plain": [
       "2×1 Matrix{Int64}:\n",
       " 1\n",
       " 2"
      ]
     },
     "metadata": {},
     "output_type": "display_data"
    }
   ],
   "source": [
    "i = (2, 1)\n",
    "LinearIndices((2,2))[CartesianIndices(i)]\n"
   ]
  },
  {
   "cell_type": "code",
   "execution_count": 9,
   "metadata": {},
   "outputs": [
    {
     "data": {
      "text/plain": [
       "8"
      ]
     },
     "metadata": {},
     "output_type": "display_data"
    }
   ],
   "source": [
    "function _lineari(dims, mi)::Integer\n",
    "    ci = CartesianIndex(Tuple(mi))\n",
    "    li = LinearIndices(dims)\n",
    "    linear_index = li[ci]\n",
    "end"
   ]
  },
  {
   "cell_type": "code",
   "execution_count": null,
   "metadata": {},
   "outputs": [],
   "source": [
    "tolerance = 1e-12\n",
    "localdims = localdims1 .* localdims3\n",
    "tci, ranks, errors =\n",
    "    TCI.crossinterpolate2(Float64, ab, localdims, [ones(Int, N)]; tolerance = tolerance, loginterval=1)"
   ]
  },
  {
   "cell_type": "code",
   "execution_count": null,
   "metadata": {},
   "outputs": [],
   "source": [
    "sitesa = [Index(d, \"a=$i\") for (i, d) in enumerate(localdims1)]\n",
    "sitesb = [Index(d, \"b=$i\") for (i, d) in enumerate(localdims3)]\n",
    "M = Quantics.TCItoMPS(tci)\n",
    "M = Quantics.unfuse_siteinds_nosplit(M, siteinds(M), [collect(i) for i in zip(sitesa, sitesb)])"
   ]
  },
  {
   "cell_type": "code",
   "execution_count": null,
   "metadata": {},
   "outputs": [],
   "source": [
    "ab_ref = contract(ab.a_MPO, ab.b_MPO; alg=\"naive\")\n",
    "for n in eachindex(ab_ref)\n",
    "    ab_ref[n] = replaceind(ab_ref[n], ab.sites1[n], sitesa[n])\n",
    "    ab_ref[n] = replaceind(ab_ref[n], ab.sites3[n], sitesb[n])\n",
    "end\n",
    "ab_ref[1] *= onehot(ab.links_a[1] => 1)\n",
    "ab_ref[1] *= onehot(ab.links_b[1] => 1)\n",
    "ab_ref[end] *= onehot(ab.links_a[end] => 1)\n",
    "ab_ref[end] *= onehot(ab.links_b[end] => 1)\n",
    "ab_ref"
   ]
  },
  {
   "cell_type": "code",
   "execution_count": null,
   "metadata": {},
   "outputs": [],
   "source": [
    "ab_ref ≈ M"
   ]
  }
 ],
 "metadata": {
  "kernelspec": {
   "display_name": "Julia 1.10.0",
   "language": "julia",
   "name": "julia-1.10"
  },
  "language_info": {
   "file_extension": ".jl",
   "mimetype": "application/julia",
   "name": "julia",
   "version": "1.10.0"
  },
  "orig_nbformat": 4
 },
 "nbformat": 4,
 "nbformat_minor": 2
}

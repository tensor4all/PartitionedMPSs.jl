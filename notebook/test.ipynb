{
 "cells": [
  {
   "cell_type": "code",
   "execution_count": 1,
   "metadata": {},
   "outputs": [],
   "source": [
    "using BenchmarkTools"
   ]
  },
  {
   "cell_type": "code",
   "execution_count": 8,
   "metadata": {},
   "outputs": [
    {
     "name": "stderr",
     "output_type": "stream",
     "text": [
      "WARNING: replacing module My.\n"
     ]
    },
    {
     "data": {
      "text/plain": [
       "Main.My"
      ]
     },
     "metadata": {},
     "output_type": "display_data"
    }
   ],
   "source": [
    "module My\n",
    "\n",
    "struct IndexSetCache{T}\n",
    "    cache::Dict{BigInt,T}\n",
    "    coeffs::Vector{BigInt}\n",
    "    function IndexSetCache{T}(dims) where T\n",
    "        coeffs = ones(BigInt, length(dims))\n",
    "        for n in 2:length(dims)\n",
    "            coeffs[n] = dims[n-1] * coeffs[n-1]\n",
    "        end\n",
    "        new(Dict{BigInt,T}(), coeffs)\n",
    "    end\n",
    "end\n",
    "\n",
    "function (cf::IndexSetCache{T})(\n",
    "    x::Vector{Int}\n",
    ") where {T}\n",
    "    length(x) == length(cf.coeffs) || error(\"Invalid length of x\")\n",
    "    return get!(cf.d, _key(cf, x)) do\n",
    "        cf.f(x)\n",
    "    end\n",
    "end\n",
    "\n",
    "end"
   ]
  },
  {
   "cell_type": "code",
   "execution_count": 11,
   "metadata": {},
   "outputs": [
    {
     "data": {
      "text/plain": [
       "Main.My.IndexSetCache{Int64}(Dict{BigInt, Int64}(), BigInt[1, 2, 4, 8, 16, 32, 64, 128, 256, 512, 1024, 2048, 4096, 8192, 16384, 32768, 65536, 131072, 262144, 524288])"
      ]
     },
     "metadata": {},
     "output_type": "display_data"
    }
   ],
   "source": [
    "import .My\n",
    "\n",
    "localdims = fill(2, 20)\n",
    "cache = My.IndexSetCache{Int}(localdims)"
   ]
  },
  {
   "cell_type": "code",
   "execution_count": null,
   "metadata": {},
   "outputs": [],
   "source": []
  },
  {
   "cell_type": "code",
   "execution_count": null,
   "metadata": {},
   "outputs": [],
   "source": [
    "tolerance = 1e-12\n",
    "localdims = localdims1 .* localdims3\n",
    "tci, ranks, errors =\n",
    "    TCI.crossinterpolate2(Float64, ab, localdims, [ones(Int, N)]; tolerance = tolerance, loginterval=1)"
   ]
  },
  {
   "cell_type": "code",
   "execution_count": null,
   "metadata": {},
   "outputs": [],
   "source": [
    "sitesa = [Index(d, \"a=$i\") for (i, d) in enumerate(localdims1)]\n",
    "sitesb = [Index(d, \"b=$i\") for (i, d) in enumerate(localdims3)]\n",
    "M = Quantics.TCItoMPS(tci)\n",
    "M = Quantics.unfuse_siteinds_nosplit(M, siteinds(M), [collect(i) for i in zip(sitesa, sitesb)])"
   ]
  },
  {
   "cell_type": "code",
   "execution_count": null,
   "metadata": {},
   "outputs": [],
   "source": [
    "ab_ref = contract(ab.a_MPO, ab.b_MPO; alg=\"naive\")\n",
    "for n in eachindex(ab_ref)\n",
    "    ab_ref[n] = replaceind(ab_ref[n], ab.sites1[n], sitesa[n])\n",
    "    ab_ref[n] = replaceind(ab_ref[n], ab.sites3[n], sitesb[n])\n",
    "end\n",
    "ab_ref[1] *= onehot(ab.links_a[1] => 1)\n",
    "ab_ref[1] *= onehot(ab.links_b[1] => 1)\n",
    "ab_ref[end] *= onehot(ab.links_a[end] => 1)\n",
    "ab_ref[end] *= onehot(ab.links_b[end] => 1)\n",
    "ab_ref"
   ]
  },
  {
   "cell_type": "code",
   "execution_count": null,
   "metadata": {},
   "outputs": [],
   "source": [
    "ab_ref ≈ M"
   ]
  }
 ],
 "metadata": {
  "kernelspec": {
   "display_name": "Julia 1.10.0",
   "language": "julia",
   "name": "julia-1.10"
  },
  "language_info": {
   "file_extension": ".jl",
   "mimetype": "application/julia",
   "name": "julia",
   "version": "1.10.0"
  },
  "orig_nbformat": 4
 },
 "nbformat": 4,
 "nbformat_minor": 2
}

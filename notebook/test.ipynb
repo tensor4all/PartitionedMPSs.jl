{
 "cells": [
  {
   "cell_type": "code",
   "execution_count": 1,
   "metadata": {},
   "outputs": [],
   "source": [
    "using BenchmarkTools"
   ]
  },
  {
   "cell_type": "code",
   "execution_count": 13,
   "metadata": {},
   "outputs": [
    {
     "data": {
      "text/plain": [
       "_contract (generic function with 1 method)"
      ]
     },
     "metadata": {},
     "output_type": "display_data"
    }
   ],
   "source": [
    "_getindex(x, indices) = ntuple(i->x[indices[i]], length(indices))\n",
    "\n",
    "function _contract(\n",
    "    a::AbstractArray{T1,N1},\n",
    "    b::AbstractArray{T2,N2},\n",
    "    idx_a::NTuple{n1,Int},\n",
    "    idx_b::NTuple{n2,Int}\n",
    "    ) where {T1, T2, N1, N2, n1, n2}\n",
    "    length(idx_a) == length(idx_b) || error(\"length(idx_a) != length(idx_b)\")\n",
    "    # check if idx_a contains only unique elements\n",
    "    length(unique(idx_a)) == length(idx_a) || error(\"idx_a contains duplicate elements\")\n",
    "    # check if idx_b contains only unique elements\n",
    "    length(unique(idx_b)) == length(idx_b) || error(\"idx_b contains duplicate elements\")\n",
    "    # check if idx_a and idx_b are subsets of 1:N1 and 1:N2\n",
    "    all(1 <= idx <= N1 for idx in idx_a) || error(\"idx_a contains elements out of range\")\n",
    "    all(1 <= idx <= N2 for idx in idx_b) || error(\"idx_b contains elements out of range\")\n",
    "\n",
    "    rest_idx_a = setdiff(1:N1, idx_a)\n",
    "    rest_idx_b = setdiff(1:N2, idx_b)\n",
    "\n",
    "    amat = reshape(permutedims(a, (rest_idx_a..., idx_a...)), prod(_getindex(size(a), rest_idx_a)), prod(_getindex(size(a), idx_a)))\n",
    "    bmat = reshape(permutedims(b, (idx_b..., rest_idx_b...)), prod(_getindex(size(b), idx_b)), prod(_getindex(size(b), rest_idx_b)))\n",
    "\n",
    "    return reshape(amat * bmat, size(a)[rest_idx_a...]..., size(b)[rest_idx_b]...)\n",
    "end"
   ]
  },
  {
   "cell_type": "code",
   "execution_count": 16,
   "metadata": {},
   "outputs": [
    {
     "data": {
      "text/plain": [
       "3×5 Matrix{Float64}:\n",
       " 1.9065   3.86227  2.6992   2.38542  2.32756\n",
       " 1.35216  2.76803  1.49784  1.68708  1.66962\n",
       " 1.56337  2.81816  2.12559  1.76629  1.60034"
      ]
     },
     "metadata": {},
     "output_type": "display_data"
    }
   ],
   "source": [
    "a = rand(2, 3, 4)\n",
    "b = rand(2, 5, 4)\n",
    "ab = _contract(a, b, (1, 3), (1, 3))"
   ]
  },
  {
   "cell_type": "code",
   "execution_count": 9,
   "metadata": {},
   "outputs": [
    {
     "data": {
      "text/plain": [
       "(1, 2)"
      ]
     },
     "metadata": {},
     "output_type": "display_data"
    }
   ],
   "source": [
    "Tuple([1,2])"
   ]
  },
  {
   "cell_type": "code",
   "execution_count": 8,
   "metadata": {},
   "outputs": [
    {
     "name": "stderr",
     "output_type": "stream",
     "text": [
      "WARNING: replacing module My.\n"
     ]
    },
    {
     "data": {
      "text/plain": [
       "Main.My"
      ]
     },
     "metadata": {},
     "output_type": "display_data"
    }
   ],
   "source": [
    "module My\n",
    "\n",
    "struct IndexSetCache{T}\n",
    "    cache::Dict{BigInt,T}\n",
    "    coeffs::Vector{BigInt}\n",
    "    function IndexSetCache{T}(dims) where T\n",
    "        coeffs = ones(BigInt, length(dims))\n",
    "        for n in 2:length(dims)\n",
    "            coeffs[n] = dims[n-1] * coeffs[n-1]\n",
    "        end\n",
    "        new(Dict{BigInt,T}(), coeffs)\n",
    "    end\n",
    "end\n",
    "\n",
    "function (cf::IndexSetCache{T})(\n",
    "    x::Vector{Int}\n",
    ") where {T}\n",
    "    length(x) == length(cf.coeffs) || error(\"Invalid length of x\")\n",
    "    return get!(cf.d, _key(cf, x)) do\n",
    "        cf.f(x)\n",
    "    end\n",
    "end\n",
    "\n",
    "end"
   ]
  },
  {
   "cell_type": "code",
   "execution_count": 11,
   "metadata": {},
   "outputs": [
    {
     "data": {
      "text/plain": [
       "Main.My.IndexSetCache{Int64}(Dict{BigInt, Int64}(), BigInt[1, 2, 4, 8, 16, 32, 64, 128, 256, 512, 1024, 2048, 4096, 8192, 16384, 32768, 65536, 131072, 262144, 524288])"
      ]
     },
     "metadata": {},
     "output_type": "display_data"
    }
   ],
   "source": [
    "import .My\n",
    "\n",
    "localdims = fill(2, 20)\n",
    "cache = My.IndexSetCache{Int}(localdims)"
   ]
  },
  {
   "cell_type": "code",
   "execution_count": null,
   "metadata": {},
   "outputs": [],
   "source": []
  },
  {
   "cell_type": "code",
   "execution_count": null,
   "metadata": {},
   "outputs": [],
   "source": [
    "tolerance = 1e-12\n",
    "localdims = localdims1 .* localdims3\n",
    "tci, ranks, errors =\n",
    "    TCI.crossinterpolate2(Float64, ab, localdims, [ones(Int, N)]; tolerance = tolerance, loginterval=1)"
   ]
  },
  {
   "cell_type": "code",
   "execution_count": null,
   "metadata": {},
   "outputs": [],
   "source": [
    "sitesa = [Index(d, \"a=$i\") for (i, d) in enumerate(localdims1)]\n",
    "sitesb = [Index(d, \"b=$i\") for (i, d) in enumerate(localdims3)]\n",
    "M = Quantics.TCItoMPS(tci)\n",
    "M = Quantics.unfuse_siteinds_nosplit(M, siteinds(M), [collect(i) for i in zip(sitesa, sitesb)])"
   ]
  },
  {
   "cell_type": "code",
   "execution_count": null,
   "metadata": {},
   "outputs": [],
   "source": [
    "ab_ref = contract(ab.a_MPO, ab.b_MPO; alg=\"naive\")\n",
    "for n in eachindex(ab_ref)\n",
    "    ab_ref[n] = replaceind(ab_ref[n], ab.sites1[n], sitesa[n])\n",
    "    ab_ref[n] = replaceind(ab_ref[n], ab.sites3[n], sitesb[n])\n",
    "end\n",
    "ab_ref[1] *= onehot(ab.links_a[1] => 1)\n",
    "ab_ref[1] *= onehot(ab.links_b[1] => 1)\n",
    "ab_ref[end] *= onehot(ab.links_a[end] => 1)\n",
    "ab_ref[end] *= onehot(ab.links_b[end] => 1)\n",
    "ab_ref"
   ]
  },
  {
   "cell_type": "code",
   "execution_count": null,
   "metadata": {},
   "outputs": [],
   "source": [
    "ab_ref ≈ M"
   ]
  }
 ],
 "metadata": {
  "kernelspec": {
   "display_name": "Julia 1.10.2",
   "language": "julia",
   "name": "julia-1.10"
  },
  "language_info": {
   "file_extension": ".jl",
   "mimetype": "application/julia",
   "name": "julia",
   "version": "1.10.2"
  },
  "orig_nbformat": 4
 },
 "nbformat": 4,
 "nbformat_minor": 2
}

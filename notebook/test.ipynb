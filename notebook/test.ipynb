{
 "cells": [
  {
   "cell_type": "code",
   "execution_count": 1,
   "metadata": {},
   "outputs": [],
   "source": [
    "using Revise\n",
    "\n",
    "using Test\n",
    "using Random\n",
    "\n",
    "using TensorCrossInterpolation\n",
    "import TensorCrossInterpolation as TCI\n",
    "import TCIAlgorithms as TCIA\n",
    "using ITensors\n",
    "ITensors.disable_warn_order()\n",
    "import QuanticsGrids: DiscretizedGrid, quantics_to_origcoord"
   ]
  },
  {
   "cell_type": "code",
   "execution_count": 2,
   "metadata": {},
   "outputs": [
    {
     "name": "stdout",
     "output_type": "stream",
     "text": [
      "iteration = 1, rank = 9, error= 8.622563023151864e-8, maxsamplevalue= 1.0, nglobalpivot=5\n",
      "iteration = 2, rank = 15, error= 0.00028610945115262036, maxsamplevalue= 1.0, nglobalpivot=5\n",
      "  Rejected 5 global pivots added in the previous iteration\n",
      "iteration = 3, rank = 14, error= 0.0002688135238189059, maxsamplevalue= 1.0, nglobalpivot=5\n",
      "  Rejected 3 global pivots added in the previous iteration\n",
      "iteration = 4, rank = 15, error= 0.0002660690834284218, maxsamplevalue= 1.0, nglobalpivot=5\n",
      "Creating a task for [1] ...\n",
      "Creating a task for [2] ...\n",
      "Creating a task for [3] ...\n",
      "Creating a task for [4] ...\n",
      "iteration = 1, rank = 9, error= 8.622563023151864e-8, maxsamplevalue= 1.0, nglobalpivot=5\n",
      "iteration = 1, rank = 0, error= 1.3851193699226017e-68, maxsamplevalue= 1.3851193699226017e-68, nglobalpivot=0\n",
      "  Rejected 1 global pivots added in the previous iteration\n",
      "iteration = 2, rank = 0, error= 0.0, maxsamplevalue= 1.3851193699226017e-68, nglobalpivot=0\n",
      "iteration = 2, rank = 14, error= 0.0002877448285110552, maxsamplevalue= 1.0, nglobalpivot=5\n",
      "iteration = 3, rank = 0, error= 0.0, maxsamplevalue= 1.3851193699226017e-68, nglobalpivot=0\n",
      "  Rejected 4 global pivots added in the previous iteration\n",
      "iteration = 1, rank = 0, error= 1.3851193699226017e-68, maxsamplevalue= 1.3851193699226017e-68, nglobalpivot=0\n",
      "iteration = 3, rank = 15, error= 0.00029241738703663896, maxsamplevalue= 1.0, nglobalpivot=5\n",
      "iteration = 2, rank = 0, error= 0.0, maxsamplevalue= 1.3851193699226017e-68, nglobalpivot=0\n",
      "  Rejected 5 global pivots added in the previous iteration\n",
      "iteration = 3, rank = 0, error= 0.0, maxsamplevalue= 1.3851193699226017e-68, nglobalpivot=0\n",
      "iteration = 4, rank = 15, error= 0.000286109309818835, maxsamplevalue= 1.0, nglobalpivot=5\n",
      "iteration = 1, rank = 0, error= 1.918555668934785e-136, maxsamplevalue= 1.918555668934785e-136, nglobalpivot=0\n",
      "Fetching a task for [2] ...\n",
      "iteration = 2, rank = 0, error= 0.0, maxsamplevalue= 1.918555668934785e-136, nglobalpivot=0\n"
     ]
    },
    {
     "ename": "ErrorException",
     "evalue": "Error in creating a patch for [2]: TCI has zero rank, maxsamplevalue: 1.3851193699226017e-68, tolerance: (1.0e-7)\nStacktrace:\n  [1] error(s::String)\n    @ Base ./error.jl:35\n  [2] _crossinterpolate2(::Type{ComplexF64}, f::Function, localdims::Vector{Int64}, initialpivots::Vector{Vector{Int64}}, tolerance::Float64; maxbonddim::Int64, verbosity::Int64)\n    @ TCIAlgorithms ~/git/TCIAlgorithms.jl/src/divideandconquer/adaptivepartitioning.jl:312\n  [3] _crossinterpolate2\n    @ ~/git/TCIAlgorithms.jl/src/divideandconquer/adaptivepartitioning.jl:286 [inlined]\n  [4] createpatch(obj::TCIAlgorithms.TCI2PatchCreator{ComplexF64}, pordering::TCIAlgorithms.PatchOrdering, prefix::Vector{Vector{Int64}})\n    @ TCIAlgorithms ~/git/TCIAlgorithms.jl/src/divideandconquer/adaptivepartitioning.jl:336\n  [5] (::TCIAlgorithms.var\"#126#130\"{TCIAlgorithms.TCI2PatchCreator{ComplexF64}, TCIAlgorithms.PatchOrdering, Vector{Int64}})()\n    @ TCIAlgorithms ~/.julia/juliaup/julia-1.10.2+0.aarch64.apple.darwin14/share/julia/stdlib/v1.10/Distributed/src/macros.jl:83\n  [6] #invokelatest#2\n    @ ./essentials.jl:892 [inlined]\n  [7] invokelatest\n    @ ./essentials.jl:889 [inlined]\n  [8] #153\n    @ ~/.julia/juliaup/julia-1.10.2+0.aarch64.apple.darwin14/share/julia/stdlib/v1.10/Distributed/src/remotecall.jl:425 [inlined]\n  [9] run_work_thunk(thunk::Distributed.var\"#153#154\"{TCIAlgorithms.var\"#126#130\"{TCIAlgorithms.TCI2PatchCreator{ComplexF64}, TCIAlgorithms.PatchOrdering, Vector{Int64}}, Tuple{}, @Kwargs{}}, print_error::Bool)\n    @ Distributed ~/.julia/juliaup/julia-1.10.2+0.aarch64.apple.darwin14/share/julia/stdlib/v1.10/Distributed/src/process_messages.jl:70\n [10] run_work_thunk(rv::Distributed.RemoteValue, thunk::Function)\n    @ Distributed ~/.julia/juliaup/julia-1.10.2+0.aarch64.apple.darwin14/share/julia/stdlib/v1.10/Distributed/src/process_messages.jl:79\n [11] (::Distributed.var\"#100#102\"{Distributed.RemoteValue, Distributed.var\"#153#154\"{TCIAlgorithms.var\"#126#130\"{TCIAlgorithms.TCI2PatchCreator{ComplexF64}, TCIAlgorithms.PatchOrdering, Vector{Int64}}, Tuple{}, @Kwargs{}}})()\n    @ Distributed ~/.julia/juliaup/julia-1.10.2+0.aarch64.apple.darwin14/share/julia/stdlib/v1.10/Distributed/src/process_messages.jl:88",
     "output_type": "error",
     "traceback": [
      "Error in creating a patch for [2]: TCI has zero rank, maxsamplevalue: 1.3851193699226017e-68, tolerance: (1.0e-7)\n",
      "Stacktrace:\n",
      "  [1] error(s::String)\n",
      "    @ Base ./error.jl:35\n",
      "  [2] _crossinterpolate2(::Type{ComplexF64}, f::Function, localdims::Vector{Int64}, initialpivots::Vector{Vector{Int64}}, tolerance::Float64; maxbonddim::Int64, verbosity::Int64)\n",
      "    @ TCIAlgorithms ~/git/TCIAlgorithms.jl/src/divideandconquer/adaptivepartitioning.jl:312\n",
      "  [3] _crossinterpolate2\n",
      "    @ ~/git/TCIAlgorithms.jl/src/divideandconquer/adaptivepartitioning.jl:286 [inlined]\n",
      "  [4] createpatch(obj::TCIAlgorithms.TCI2PatchCreator{ComplexF64}, pordering::TCIAlgorithms.PatchOrdering, prefix::Vector{Vector{Int64}})\n",
      "    @ TCIAlgorithms ~/git/TCIAlgorithms.jl/src/divideandconquer/adaptivepartitioning.jl:336\n",
      "  [5] (::TCIAlgorithms.var\"#126#130\"{TCIAlgorithms.TCI2PatchCreator{ComplexF64}, TCIAlgorithms.PatchOrdering, Vector{Int64}})()\n",
      "    @ TCIAlgorithms ~/.julia/juliaup/julia-1.10.2+0.aarch64.apple.darwin14/share/julia/stdlib/v1.10/Distributed/src/macros.jl:83\n",
      "  [6] #invokelatest#2\n",
      "    @ ./essentials.jl:892 [inlined]\n",
      "  [7] invokelatest\n",
      "    @ ./essentials.jl:889 [inlined]\n",
      "  [8] #153\n",
      "    @ ~/.julia/juliaup/julia-1.10.2+0.aarch64.apple.darwin14/share/julia/stdlib/v1.10/Distributed/src/remotecall.jl:425 [inlined]\n",
      "  [9] run_work_thunk(thunk::Distributed.var\"#153#154\"{TCIAlgorithms.var\"#126#130\"{TCIAlgorithms.TCI2PatchCreator{ComplexF64}, TCIAlgorithms.PatchOrdering, Vector{Int64}}, Tuple{}, @Kwargs{}}, print_error::Bool)\n",
      "    @ Distributed ~/.julia/juliaup/julia-1.10.2+0.aarch64.apple.darwin14/share/julia/stdlib/v1.10/Distributed/src/process_messages.jl:70\n",
      " [10] run_work_thunk(rv::Distributed.RemoteValue, thunk::Function)\n",
      "    @ Distributed ~/.julia/juliaup/julia-1.10.2+0.aarch64.apple.darwin14/share/julia/stdlib/v1.10/Distributed/src/process_messages.jl:79\n",
      " [11] (::Distributed.var\"#100#102\"{Distributed.RemoteValue, Distributed.var\"#153#154\"{TCIAlgorithms.var\"#126#130\"{TCIAlgorithms.TCI2PatchCreator{ComplexF64}, TCIAlgorithms.PatchOrdering, Vector{Int64}}, Tuple{}, @Kwargs{}}})()\n",
      "    @ Distributed ~/.julia/juliaup/julia-1.10.2+0.aarch64.apple.darwin14/share/julia/stdlib/v1.10/Distributed/src/process_messages.jl:88\n",
      "\n",
      "Stacktrace:\n",
      " [1] error(s::String)\n",
      "   @ Base ./error.jl:35\n",
      " [2] adaptivepartion(creator::TCIAlgorithms.TCI2PatchCreator{ComplexF64}, pordering::TCIAlgorithms.PatchOrdering; sleep_time::Float64, maxnleaves::Int64, verbosity::Int64)\n",
      "   @ TCIAlgorithms ~/git/TCIAlgorithms.jl/src/divideandconquer/adaptivepartitioning.jl:199\n",
      " [3] top-level scope\n",
      "   @ ~/git/TCIAlgorithms.jl/notebook/test.ipynb:23"
     ]
    }
   ],
   "source": [
    "fxy(x, y) = exp(-x^2 - y^2)\n",
    "\n",
    "R = 40\n",
    "grid = DiscretizedGrid{2}(R, (0, 0), (25, 25))\n",
    "localdims = fill(4, R)\n",
    "\n",
    "qf = x -> fxy(quantics_to_origcoord(grid, x)...)\n",
    "\n",
    "tol = 1e-7\n",
    "\n",
    "pordering = TCIA.PatchOrdering(collect(1:R))\n",
    "\n",
    "creator = TCIA.TCI2PatchCreator(\n",
    "    ComplexF64,\n",
    "    qf,\n",
    "    localdims;\n",
    "    maxbonddim=10,\n",
    "    rtol=tol,\n",
    "    verbosity=1,\n",
    "    ntry=10,\n",
    ")\n",
    "\n",
    "tree = TCIA.adaptivepartion(creator, pordering; verbosity=1, maxnleaves=1000)"
   ]
  },
  {
   "cell_type": "code",
   "execution_count": 3,
   "metadata": {},
   "outputs": [
    {
     "name": "stdout",
     "output_type": "stream",
     "text": [
      "iteration = 3, rank = 0, error= 0.0, maxsamplevalue= 1.918555668934785e-136, nglobalpivot=0\n"
     ]
    }
   ],
   "source": [
    "using QuanticsTCI"
   ]
  },
  {
   "cell_type": "code",
   "execution_count": 4,
   "metadata": {},
   "outputs": [
    {
     "ename": "MethodError",
     "evalue": "MethodError: no method matching optimize!(::TensorCrossInterpolation.TensorCI2{Float64}, ::TensorCrossInterpolation.CachedFunction{Float64, UInt128}; nsearchglobalpivot::Int64, tolerance::Float64, strictlynested::Bool)\n\nClosest candidates are:\n  optimize!(::TensorCrossInterpolation.TensorCI2{ValueType}, ::Any; tolerance, pivottolerance, maxbonddim, maxiter, sweepstrategy, pivotsearch, verbosity, loginterval, normalizeerror, ncheckhistory, maxnglobalpivot, nsearchglobalpivot, tolmarginglobalsearch, partialnesting) where ValueType got unsupported keyword argument \"strictlynested\"\n   @ TensorCrossInterpolation ~/.julia/packages/TensorCrossInterpolation/K5op2/src/tensorci2.jl:637\n",
     "output_type": "error",
     "traceback": [
      "MethodError: no method matching optimize!(::TensorCrossInterpolation.TensorCI2{Float64}, ::TensorCrossInterpolation.CachedFunction{Float64, UInt128}; nsearchglobalpivot::Int64, tolerance::Float64, strictlynested::Bool)\n",
      "\n",
      "Closest candidates are:\n",
      "  optimize!(::TensorCrossInterpolation.TensorCI2{ValueType}, ::Any; tolerance, pivottolerance, maxbonddim, maxiter, sweepstrategy, pivotsearch, verbosity, loginterval, normalizeerror, ncheckhistory, maxnglobalpivot, nsearchglobalpivot, tolmarginglobalsearch, partialnesting) where ValueType got unsupported keyword argument \"strictlynested\"\n",
      "   @ TensorCrossInterpolation ~/.julia/packages/TensorCrossInterpolation/K5op2/src/tensorci2.jl:637\n",
      "\n",
      "\n",
      "Stacktrace:\n",
      " [1] kwerr(::@NamedTuple{nsearchglobalpivot::Int64, tolerance::Float64, strictlynested::Bool}, ::Function, ::Function, ::Function)\n",
      "   @ Base ./error.jl:165\n",
      " [2] crossinterpolate2(::Type{Float64}, f::Function, localdims::Vector{Int64}, initialpivots::Vector{Vector{Int64}}; kwargs::@Kwargs{nsearchglobalpivot::Int64, tolerance::Float64, strictlynested::Bool})\n",
      "   @ TensorCrossInterpolation ~/.julia/packages/TensorCrossInterpolation/K5op2/src/tensorci2.jl:884\n",
      " [3] quanticscrossinterpolate(::Type{Float64}, f::typeof(fxy), grid::DiscretizedGrid{2}, initialpivots::Nothing; nrandominitpivot::Int64, kwargs::@Kwargs{tolerance::Float64})\n",
      "   @ QuanticsTCI ~/.julia/packages/QuanticsTCI/y2nne/src/tciinterface.jl:106\n",
      " [4] top-level scope\n",
      "   @ ~/git/TCIAlgorithms.jl/notebook/test.ipynb:1"
     ]
    }
   ],
   "source": [
    "qtci, ranks, errors = quanticscrossinterpolate(Float64, fxy, grid; tolerance=tol)"
   ]
  }
 ],
 "metadata": {
  "kernelspec": {
   "display_name": "Julia 1.10.2",
   "language": "julia",
   "name": "julia-1.10"
  },
  "language_info": {
   "file_extension": ".jl",
   "mimetype": "application/julia",
   "name": "julia",
   "version": "1.10.2"
  },
  "orig_nbformat": 4
 },
 "nbformat": 4,
 "nbformat_minor": 2
}

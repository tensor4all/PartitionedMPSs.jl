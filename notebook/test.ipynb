{
 "cells": [
  {
   "cell_type": "code",
   "execution_count": null,
   "metadata": {},
   "outputs": [],
   "source": [
    "using Revise\n",
    "import TensorCrossInterpolation as TCI\n",
    "import TCIAlgorithms: MatrixProduct\n",
    "import TCIAlgorithms as TCIA\n",
    "using ITensors\n",
    "using Quantics"
   ]
  },
  {
   "cell_type": "code",
   "execution_count": null,
   "metadata": {},
   "outputs": [],
   "source": [
    "N = 4\n",
    "D = 2\n",
    "bonddims_a = [1; fill(D, N-1); 1]\n",
    "bonddims_b = [1; fill(D, N-1); 1]\n",
    "@assert length(bonddims_a) == N + 1\n",
    "@assert length(bonddims_b) == N + 1\n",
    "\n",
    "localdims1 = fill(2, N)\n",
    "localdims2 = fill(2, N)\n",
    "localdims3 = fill(2, N)\n",
    "\n",
    "a = TCI.TensorTrain([\n",
    "    rand(bonddims_a[n], localdims1[n], localdims2[n], bonddims_a[n+1]) for n = 1:N\n",
    "])\n",
    "b = TCI.TensorTrain([\n",
    "    rand(bonddims_b[n], localdims2[n], localdims3[n], bonddims_b[n+1]) for n = 1:N\n",
    "])\n",
    "\n",
    "ab = TCIA.MatrixProduct(a, b)\n",
    ";\n"
   ]
  },
  {
   "cell_type": "code",
   "execution_count": null,
   "metadata": {},
   "outputs": [],
   "source": [
    "ab"
   ]
  },
  {
   "cell_type": "code",
   "execution_count": null,
   "metadata": {},
   "outputs": [],
   "source": [
    "tolerance = 1e-12\n",
    "localdims = localdims1 .* localdims3\n",
    "tci, ranks, errors =\n",
    "    TCI.crossinterpolate2(Float64, ab, localdims, [ones(Int, N)]; tolerance = tolerance, loginterval=1)"
   ]
  },
  {
   "cell_type": "code",
   "execution_count": null,
   "metadata": {},
   "outputs": [],
   "source": [
    "sitesa = [Index(d, \"a=$i\") for (i, d) in enumerate(localdims1)]\n",
    "sitesb = [Index(d, \"b=$i\") for (i, d) in enumerate(localdims3)]\n",
    "M = Quantics.TCItoMPS(tci)\n",
    "M = Quantics.unfuse_siteinds_nosplit(M, siteinds(M), [collect(i) for i in zip(sitesa, sitesb)])"
   ]
  },
  {
   "cell_type": "code",
   "execution_count": null,
   "metadata": {},
   "outputs": [],
   "source": [
    "ab_ref = contract(ab.a_MPO, ab.b_MPO; alg=\"naive\")\n",
    "for n in eachindex(ab_ref)\n",
    "    ab_ref[n] = replaceind(ab_ref[n], ab.sites1[n], sitesa[n])\n",
    "    ab_ref[n] = replaceind(ab_ref[n], ab.sites3[n], sitesb[n])\n",
    "end\n",
    "ab_ref[1] *= onehot(ab.links_a[1] => 1)\n",
    "ab_ref[1] *= onehot(ab.links_b[1] => 1)\n",
    "ab_ref[end] *= onehot(ab.links_a[end] => 1)\n",
    "ab_ref[end] *= onehot(ab.links_b[end] => 1)\n",
    "ab_ref"
   ]
  },
  {
   "cell_type": "code",
   "execution_count": null,
   "metadata": {},
   "outputs": [],
   "source": [
    "ab_ref ≈ M"
   ]
  }
 ],
 "metadata": {
  "kernelspec": {
   "display_name": "Julia 1.9.2",
   "language": "julia",
   "name": "julia-1.9"
  },
  "language_info": {
   "file_extension": ".jl",
   "mimetype": "application/julia",
   "name": "julia",
   "version": "1.9.2"
  },
  "orig_nbformat": 4
 },
 "nbformat": 4,
 "nbformat_minor": 2
}
